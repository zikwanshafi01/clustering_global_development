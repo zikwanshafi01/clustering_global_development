{
 "cells": [
  {
   "cell_type": "code",
   "execution_count": null,
   "id": "cf44acef-78be-44e2-a7e3-af872eb014a6",
   "metadata": {},
   "outputs": [],
   "source": []
  },
  {
   "cell_type": "code",
   "execution_count": null,
   "id": "b207940c-52c3-4bc4-b730-ffd027a8e140",
   "metadata": {},
   "outputs": [],
   "source": []
  },
  {
   "cell_type": "code",
   "execution_count": null,
   "id": "43795904-0380-496c-b4b0-7cf316c9763b",
   "metadata": {},
   "outputs": [],
   "source": []
  },
  {
   "cell_type": "code",
   "execution_count": null,
   "id": "34c3638d-f070-4395-ab73-316988eda7f4",
   "metadata": {},
   "outputs": [],
   "source": []
  },
  {
   "cell_type": "code",
   "execution_count": null,
   "id": "f4dbc6b2-c5c1-49de-89ba-125ad3b6bae9",
   "metadata": {},
   "outputs": [],
   "source": []
  },
  {
   "cell_type": "code",
   "execution_count": null,
   "id": "bd9996a7-dda6-4cdc-9d3f-8656950ff8dc",
   "metadata": {},
   "outputs": [],
   "source": []
  },
  {
   "cell_type": "code",
   "execution_count": 1,
   "id": "98699e7c-38b4-4aad-ad27-053f6e580594",
   "metadata": {},
   "outputs": [
    {
     "name": "stdout",
     "output_type": "stream",
     "text": [
      "Overwriting appkmeanfinal.py\n"
     ]
    }
   ],
   "source": [
    "%%writefile appkmeanfinal.py\n",
    "import pandas as pd\n",
    "import streamlit as st\n",
    "import joblib\n",
    "\n",
    "# Load the saved KMeans model and scaler\n",
    "kmeans = joblib.load(\"kmeans_model.joblib\")\n",
    "scaler = joblib.load(\"scaler.joblib\")\n",
    "\n",
    "# Define the features for user input\n",
    "features = [\n",
    "    'BirthRate', 'BusinessTaxRate', 'CO2Emissions', 'DaystoStartBusiness',\n",
    "    'EaseofBusiness', 'EnergyUsage', 'GDP', 'HealthExpGDP',\n",
    "    'HourstodoTax', 'InfantMortalityRate', 'InternetUsage',\n",
    "    'LendingInterest', 'LifeExpectancyFemale', 'LifeExpectancyMale',\n",
    "    'MobilePhoneUsage', 'PopulationTotal', 'TourismInbound',\n",
    "    'TourismOutbound', 'Country_encoded'\n",
    "]\n",
    "\n",
    "# Define the prediction function with scaling\n",
    "def predict_cluster(new_data):\n",
    "    new_data_df = pd.DataFrame([new_data])\n",
    "    new_data_df = new_data_df[features]  # Keep only relevant features\n",
    "    # Scale the new data using the loaded scaler\n",
    "    new_data_scaled = scaler.transform(new_data_df)\n",
    "    cluster = kmeans.predict(new_data_scaled)[0]\n",
    "    return cluster\n",
    "\n",
    "# Function to provide cluster insights\n",
    "def cluster_insights(cluster):\n",
    "    if cluster == 0:\n",
    "        return (\n",
    "            \"Cluster 0: These countries generally have a low business tax rate where \"\n",
    "            \"the ease of doing business varies widely. As tax rates increase, the ease of \"\n",
    "            \"doing business stabilizes. Other characteristics:\\n\"\n",
    "            \"- **Birth Rate**: Moderate to high\\n\"\n",
    "            \"- **CO2 Emissions**: Moderate levels\\n\"\n",
    "            \"- **Ease of Business**: High variability\\n\"\n",
    "            \"- **Tourism Inbound**: Moderate to high\"\n",
    "        )\n",
    "    elif cluster == 1:\n",
    "        return (\n",
    "            \"Cluster 1: Countries in this cluster typically have a low business tax rate, \"\n",
    "            \"leading to a mix of high and low ease of doing business scores. When tax rates rise, \"\n",
    "            \"the ease of business stabilizes at high levels. Other characteristics:\\n\"\n",
    "            \"- **Health Expenditure (% GDP)**: High\\n\"\n",
    "            \"- **Mobile Phone Usage**: High\\n\"\n",
    "            \"- **Internet Usage**: High\\n\"\n",
    "            \"- **Ease of Business**: Generally stable around 90\"\n",
    "        )\n",
    "    elif cluster == 2:\n",
    "        return (\n",
    "            \"Cluster 2: These countries maintain high ease of doing business scores even with \"\n",
    "            \"both low and high tax rates, although they are fewer in number. Other characteristics:\\n\"\n",
    "            \"- **Life Expectancy (Female & Male)**: High\\n\"\n",
    "            \"- **Energy Usage**: Moderate\\n\"\n",
    "            \"- **Tourism Inbound and Outbound**: Moderate\\n\"\n",
    "            \"- **Population Total**: Smaller populations\"\n",
    "        )\n",
    "    else:\n",
    "        return \"Unknown cluster type.\"\n",
    "\n",
    "# Streamlit user interface\n",
    "st.title(\"KMeans Clustering Prediction with Loaded Model\")\n",
    "st.write(\"Adjust the sliders for the following features:\")\n",
    "\n",
    "# Create slider inputs for each feature with defined ranges\n",
    "user_input = {}\n",
    "user_input['BirthRate'] = st.slider(\"BirthRate\", 0.0, 0.1, 0.02)\n",
    "user_input['BusinessTaxRate'] = st.slider(\"BusinessTaxRate\", 0.0, 50.0, 20.0)\n",
    "user_input['CO2Emissions'] = st.slider(\"CO2Emissions\", 0.0, 200000.0, 10000.0)\n",
    "user_input['DaystoStartBusiness'] = st.slider(\"DaystoStartBusiness\", 0.0, 365.0, 15.0)\n",
    "user_input['EaseofBusiness'] = st.slider(\"EaseofBusiness\", 0.0, 100.0, 80.0)\n",
    "user_input['EnergyUsage'] = st.slider(\"EnergyUsage\", 0.0, 50000.0, 15000.0)\n",
    "user_input['GDP'] = st.slider(\"GDP\", 0.0, 5e12, 1e10)\n",
    "user_input['HealthExpGDP'] = st.slider(\"HealthExpGDP\", 0.0, 1.0, 0.05)\n",
    "user_input['HourstodoTax'] = st.slider(\"HourstodoTax\", 0.0, 500.0, 200.0)\n",
    "user_input['InfantMortalityRate'] = st.slider(\"InfantMortalityRate\", 0.0, 100.0, 30.0)\n",
    "user_input['InternetUsage'] = st.slider(\"InternetUsage\", 0.0, 100.0, 70.0)\n",
    "user_input['LendingInterest'] = st.slider(\"LendingInterest\", 0.0, 20.0, 5.0)\n",
    "user_input['LifeExpectancyFemale'] = st.slider(\"LifeExpectancyFemale\", 0.0, 100.0, 75.0)\n",
    "user_input['LifeExpectancyMale'] = st.slider(\"LifeExpectancyMale\", 0.0, 100.0, 70.0)\n",
    "user_input['MobilePhoneUsage'] = st.slider(\"MobilePhoneUsage\", 0.0, 100.0, 90.0)\n",
    "user_input['PopulationTotal'] = st.slider(\"PopulationTotal\", 0.0, 1e9, 5e6)\n",
    "user_input['TourismInbound'] = st.slider(\"TourismInbound\", 0.0, 1e8, 1e5)\n",
    "user_input['TourismOutbound'] = st.slider(\"TourismOutbound\", 0.0, 1e8, 5e4)\n",
    "user_input['Country_encoded'] = st.slider(\"Country_encoded\", 1, 200, 1)\n",
    "\n",
    "# Predict button\n",
    "if st.button(\"Predict Cluster\"):\n",
    "    predicted_cluster = predict_cluster(user_input)\n",
    "    st.write(f\"The predicted cluster for the input is: {predicted_cluster}\")\n",
    "    st.write(cluster_insights(predicted_cluster))\n"
   ]
  },
  {
   "cell_type": "code",
   "execution_count": null,
   "id": "eb1402f9-ca30-4000-8e6b-85d668481edf",
   "metadata": {},
   "outputs": [],
   "source": []
  },
  {
   "cell_type": "code",
   "execution_count": 3,
   "id": "7dfbac7b-9f50-48ba-b483-a3e86dd0eb4e",
   "metadata": {},
   "outputs": [
    {
     "name": "stdout",
     "output_type": "stream",
     "text": [
      "^C\n"
     ]
    }
   ],
   "source": [
    "! streamlit run appkmeanfinal.py"
   ]
  },
  {
   "cell_type": "code",
   "execution_count": null,
   "id": "c1d6ae11-fad2-4b4c-9a0c-063ee5286f13",
   "metadata": {},
   "outputs": [],
   "source": []
  },
  {
   "cell_type": "code",
   "execution_count": null,
   "id": "e549bf58-8260-4c60-a51c-bafc1eb26c40",
   "metadata": {},
   "outputs": [],
   "source": []
  },
  {
   "cell_type": "code",
   "execution_count": null,
   "id": "14145da6-6099-4ae6-82b5-6774629672a7",
   "metadata": {},
   "outputs": [],
   "source": []
  },
  {
   "cell_type": "code",
   "execution_count": null,
   "id": "2bf138ca-2113-4111-99cf-9196c4624d21",
   "metadata": {},
   "outputs": [],
   "source": []
  },
  {
   "cell_type": "code",
   "execution_count": null,
   "id": "be945251-83e2-4632-afbd-cf3decf9139b",
   "metadata": {},
   "outputs": [],
   "source": []
  },
  {
   "cell_type": "code",
   "execution_count": null,
   "id": "42ff55d7-f7fe-4aa6-8447-778e7850f54e",
   "metadata": {},
   "outputs": [],
   "source": []
  }
 ],
 "metadata": {
  "kernelspec": {
   "display_name": "Python 3 (ipykernel)",
   "language": "python",
   "name": "python3"
  },
  "language_info": {
   "codemirror_mode": {
    "name": "ipython",
    "version": 3
   },
   "file_extension": ".py",
   "mimetype": "text/x-python",
   "name": "python",
   "nbconvert_exporter": "python",
   "pygments_lexer": "ipython3",
   "version": "3.11.3"
  }
 },
 "nbformat": 4,
 "nbformat_minor": 5
}
